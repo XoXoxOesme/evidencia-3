{
  "cells": [
    {
      "cell_type": "code",
      "execution_count": null,
      "metadata": {
        "colab": {
          "base_uri": "https://localhost:8080/"
        },
        "id": "MlL1GEp54Nb1",
        "outputId": "aaf3ac1e-ff13-464f-fdbe-b9d590731828"
      },
      "outputs": [
        {
          "name": "stdout",
          "output_type": "stream",
          "text": [
            "{'1234': ['1234', 'Juan', 100.0], '2345': ['2345', 'María', 400.0], '3456': ['3456', 'Brenda', 350.0]}\n"
          ]
        }
      ],
      "source": [
        "# Declara un diccionario vacío, de nombre Asistentes\n",
        "Asistentes={}\n",
        "# Agrega los elementos existentes.\n",
        "Asistentes.update({\"1234\":[\"1234\",\"Juan\",100.00]})\n",
        "Asistentes.update({\"2345\":[\"2345\",\"María\",400.00]})\n",
        "Asistentes.update({\"3456\":[\"3456\",\"Brenda\",350.00]})\n",
        "# Muestra el contenido del diccionario.\n",
        "print(Asistentes)"
      ]
    },
    {
      "cell_type": "code",
      "execution_count": null,
      "metadata": {
        "colab": {
          "background_save": true,
          "base_uri": "https://localhost:8080/"
        },
        "id": "oojjuam-4dpM",
        "outputId": "0adf96d7-cdf4-4479-8d31-94739b79feb4"
      },
      "outputs": [
        {
          "name": "stdout",
          "output_type": "stream",
          "text": [
            "Asistente no encontrado. No se puede eliminar.\n"
          ]
        }
      ],
      "source": [
        "# Inicializar el diccionario de asistentes\n",
        "Asistentes = {\n",
        "    \"1234\": [\"1234\", \"Juan\", 700.00],\n",
        "    \"4567\": [\"4567\", \"Maria\", 900.00],\n",
        "    \"7890\": [\"7890\", \"Carlos\", 500.00]\n",
        "}\n",
        "\n",
        "# Variables\n",
        "opcion = \"\"\n",
        "\n",
        "# Mientras no se quiera salir, repetir\n",
        "while (opcion.upper() != \"S\"):\n",
        "\n",
        "    # Solicitar la opción al usuario\n",
        "    opcion = input(\"Opciones: Agregar (A), Buscar (B), Eliminar (E), Modificar (M), Ver lista (V), Quitar todos (Q), Salir (S): \")\n",
        "\n",
        "    # Agregar asistente\n",
        "    if (opcion.upper() == \"A\"):\n",
        "        socio = input(\"Número de socio a agregar: \")\n",
        "        nombre = input(\"Nombre del socio: \")\n",
        "        aportacion = float(input(\"Aportación: \"))\n",
        "        Asistentes.update({socio: [socio, nombre, aportacion]})\n",
        "        print(\"Asistente agregado.\")\n",
        "\n",
        "    # Buscar asistente\n",
        "    elif (opcion.upper() == \"B\"):\n",
        "        socio = input(\"Número de socio a buscar: \")\n",
        "        recuperado = Asistentes.get(socio)\n",
        "        if recuperado == None:\n",
        "            print(\"Asistente no encontrado.\")\n",
        "        else:\n",
        "            print(f\"{recuperado[0]},{recuperado[1]},{recuperado[2]}\")\n",
        "\n",
        "    # Eliminar asistente\n",
        "    elif (opcion.upper() == \"E\"):\n",
        "        socio = input(\"Número de socio a eliminar: \")\n",
        "        if Asistentes.get(socio) == None:\n",
        "            print(\"Asistente no encontrado. No se puede eliminar.\")\n",
        "        else:\n",
        "            As"
      ]
    }
  ],
  "metadata": {
    "colab": {
      "provenance": []
    },
    "kernelspec": {
      "display_name": "Python 3",
      "name": "python3"
    },
    "language_info": {
      "name": "python"
    }
  },
  "nbformat": 4,
  "nbformat_minor": 0
}