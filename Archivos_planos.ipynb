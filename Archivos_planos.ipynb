{
  "cells": [
    {
      "cell_type": "code",
      "execution_count": 3,
      "metadata": {
        "colab": {
          "base_uri": "https://localhost:8080/"
        },
        "id": "MlL1GEp54Nb1",
        "outputId": "b82f1a4d-4e32-4f4b-fe27-dea6417e45bd"
      },
      "outputs": [
        {
          "output_type": "stream",
          "name": "stdout",
          "text": [
            "Fin del programa\n"
          ]
        }
      ],
      "source": [
        "archi1=open(\"datos.txt\",\"w\")\n",
        "archi1.write(\"Primer línea.\\n\")\n",
        "archi1.write(\"Segunda línea.\\n\")\n",
        "archi1.write(\"Tercer línea.\\n\")\n",
        "archi1.close()\n",
        "print(\"Fin del programa\")"
      ]
    },
    {
      "cell_type": "code",
      "source": [
        "archi1=open(\"datos.txt\",\"r\")\n",
        "contenido=archi1.read()\n",
        "print(contenido)\n",
        "archi1.close()\n",
        "print(\"Fin del programa\")"
      ],
      "metadata": {
        "colab": {
          "base_uri": "https://localhost:8080/"
        },
        "id": "u9I3D81q3kFy",
        "outputId": "3c203a4c-214c-42a2-fa03-273e3c4f5f8b"
      },
      "execution_count": 4,
      "outputs": [
        {
          "output_type": "stream",
          "name": "stdout",
          "text": [
            "Primer línea.\n",
            "Segunda línea.\n",
            "Tercer línea.\n",
            "\n",
            "Fin del programa\n"
          ]
        }
      ]
    },
    {
      "cell_type": "code",
      "source": [
        "archi1=open(\"datos.txt\",\"r\")\n",
        "linea=archi1.readline()\n",
        "while linea!='':\n",
        "    print(linea, end='')\n",
        "    linea=archi1.readline()\n",
        "archi1.close()\n",
        "print(\"Fin del programa\")"
      ],
      "metadata": {
        "colab": {
          "base_uri": "https://localhost:8080/"
        },
        "id": "k3DMxyDK3kQ5",
        "outputId": "0b7e6691-b994-4651-b669-9b50e7f1e90e"
      },
      "execution_count": 5,
      "outputs": [
        {
          "output_type": "stream",
          "name": "stdout",
          "text": [
            "Primer línea.\n",
            "Segunda línea.\n",
            "Tercer línea.\n",
            "Fin del programa\n"
          ]
        }
      ]
    },
    {
      "cell_type": "code",
      "source": [
        "archi1=open(\"datos.txt\",\"r\")\n",
        "for linea in archi1:\n",
        "    print(linea, end='')\n",
        "archi1.close()"
      ],
      "metadata": {
        "id": "hBXyAz-i3kTR"
      },
      "execution_count": null,
      "outputs": []
    },
    {
      "cell_type": "code",
      "source": [
        "archi1=open(\"datos.txt\",\"r\")\n",
        "lineas=archi1.readlines()\n",
        "print('El archivo tiene', len(lineas), 'líneas')\n",
        "print('El contenido del archivo')\n",
        "for linea in lineas:\n",
        "    print(linea, end='')\n",
        "archi1.close()"
      ],
      "metadata": {
        "id": "86wQyD_X3kV1"
      },
      "execution_count": null,
      "outputs": []
    },
    {
      "cell_type": "code",
      "source": [
        "archi1=open(\"datos.txt\",\"a\")\n",
        "archi1.write(\"nueva línea 1\\n\")\n",
        "archi1.write(\"nueva línea 2\\n\")\n",
        "archi1.close()\n",
        "archi1=open(\"datos.txt\",\"r\")\n",
        "contenido=archi1.read()\n",
        "print(contenido)\n",
        "archi1.close()"
      ],
      "metadata": {
        "id": "B4PdNcUz3kYL"
      },
      "execution_count": null,
      "outputs": []
    },
    {
      "cell_type": "code",
      "source": [
        "archi1=open(\"datos.txt\",\"r+\")\n",
        "contenido=archi1.read()\n",
        "print(contenido)\n",
        "archi1.write(\"Otra línea 1\\n\")\n",
        "archi1.write(\"Otra línea 2\\n\")\n",
        "archi1.close()"
      ],
      "metadata": {
        "id": "7x6Xc4_L3kag"
      },
      "execution_count": null,
      "outputs": []
    },
    {
      "cell_type": "code",
      "source": [
        "archi1=open(\"datos.txt\",\"w\", encoding=\"utf-8\")\n",
        "archi1.write(\"Primer línea.\\n\")\n",
        "archi1.write(\"Segunda línea.\\n\")\n",
        "archi1.write(\"Tercer línea.\\n\")\n",
        "archi1.close()\n",
        "print(\"Fin del programa\")"
      ],
      "metadata": {
        "id": "k_dmOBQp3keA"
      },
      "execution_count": null,
      "outputs": []
    }
  ],
  "metadata": {
    "colab": {
      "provenance": []
    },
    "kernelspec": {
      "display_name": "Python 3",
      "name": "python3"
    },
    "language_info": {
      "name": "python"
    }
  },
  "nbformat": 4,
  "nbformat_minor": 0
}